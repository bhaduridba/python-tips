{
 "cells": [
  {
   "cell_type": "markdown",
   "metadata": {},
   "source": [
    "# <font color='purple'> *Some Python Tips* </font> \n",
    "# <font color='red'> LISTS </font> "
   ]
  },
  {
   "cell_type": "markdown",
   "metadata": {},
   "source": [
    "# <font color='blue'> 1. Print First, Second & Last element in the LIST </font> \n",
    "Remember that the first element of the list has an index of 0"
   ]
  },
  {
   "cell_type": "code",
   "execution_count": 1,
   "metadata": {},
   "outputs": [
    {
     "name": "stdout",
     "output_type": "stream",
     "text": [
      "Andreas\n",
      "Marcus\n",
      "Kiruna\n"
     ]
    }
   ],
   "source": [
    "names = [\"Andreas\", \"Marcus\", \"Sofia\", \"Phil\", \"Texas\", \"Kiruna\"]\n",
    "print(names[0])\n",
    "print(names[1])\n",
    "print(names[-1])\n"
   ]
  },
  {
   "cell_type": "markdown",
   "metadata": {},
   "source": [
    "# <font color='blue'> 2. Customize PRINT (1) ALL ELEMENTS in the LIST, (2) Selected elements, (3) FIRST THREE elements, (4) LAST THREE elements, (5) SKIP One element at a time </font> \n",
    "Solution: \n",
    "- print(names[:])\n",
    "- print(names[1:4])\n",
    "- print(names[:3])\n",
    "- print(names[-3:])\n",
    "- print(names[::2])"
   ]
  }
 ],
 "metadata": {
  "kernelspec": {
   "display_name": "Python 2",
   "language": "python",
   "name": "python2"
  },
  "language_info": {
   "codemirror_mode": {
    "name": "ipython",
    "version": 2
   },
   "file_extension": ".py",
   "mimetype": "text/x-python",
   "name": "python",
   "nbconvert_exporter": "python",
   "pygments_lexer": "ipython2",
   "version": "2.7.15"
  }
 },
 "nbformat": 4,
 "nbformat_minor": 2
}
